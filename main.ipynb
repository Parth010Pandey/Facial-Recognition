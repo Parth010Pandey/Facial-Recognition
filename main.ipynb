{
 "cells": [
  {
   "cell_type": "code",
   "execution_count": 5,
   "metadata": {},
   "outputs": [],
   "source": [
    "import torch\n",
    "import torch.nn as nn\n",
    "from torchvision import transforms\n",
    "import pandas as pd\n",
    "import numpy as np\n",
    "from PIL import Image\n",
    "from torch.utils.data import Dataset,DataLoader\n",
    "import torch.optim as optim\n",
    "import os\n",
    "import matplotlib.pyplot as plt\n",
    "import sklearn.metrics as skmetrics\n",
    "\n",
    "\n",
    "from network import DeepNetwork"
   ]
  },
  {
   "cell_type": "code",
   "execution_count": 6,
   "metadata": {},
   "outputs": [
    {
     "name": "stdout",
     "output_type": "stream",
     "text": [
      "Model archticture:  DeepNetwork(\n",
      "  (conv1): Conv2d(1, 10, kernel_size=(3, 3), stride=(1, 1))\n",
      "  (conv2): Conv2d(10, 10, kernel_size=(3, 3), stride=(1, 1))\n",
      "  (pool2): MaxPool2d(kernel_size=2, stride=2, padding=0, dilation=1, ceil_mode=False)\n",
      "  (conv3): Conv2d(10, 10, kernel_size=(3, 3), stride=(1, 1))\n",
      "  (conv4): Conv2d(10, 10, kernel_size=(3, 3), stride=(1, 1))\n",
      "  (pool4): MaxPool2d(kernel_size=2, stride=2, padding=0, dilation=1, ceil_mode=False)\n",
      "  (norm): BatchNorm2d(10, eps=1e-05, momentum=0.1, affine=True, track_running_stats=True)\n",
      "  (fc1): Linear(in_features=810, out_features=50, bias=True)\n",
      "  (fc2): Linear(in_features=50, out_features=7, bias=True)\n",
      "  (localization): Sequential(\n",
      "    (0): Conv2d(1, 8, kernel_size=(7, 7), stride=(1, 1))\n",
      "    (1): MaxPool2d(kernel_size=2, stride=2, padding=0, dilation=1, ceil_mode=False)\n",
      "    (2): ReLU(inplace=True)\n",
      "    (3): Conv2d(8, 10, kernel_size=(5, 5), stride=(1, 1))\n",
      "    (4): MaxPool2d(kernel_size=2, stride=2, padding=0, dilation=1, ceil_mode=False)\n",
      "    (5): ReLU(inplace=True)\n",
      "  )\n",
      "  (fc_loc): Sequential(\n",
      "    (0): Linear(in_features=640, out_features=32, bias=True)\n",
      "    (1): ReLU(inplace=True)\n",
      "    (2): Linear(in_features=32, out_features=6, bias=True)\n",
      "    (3): Softmax(dim=1)\n",
      "  )\n",
      ")\n"
     ]
    }
   ],
   "source": [
    "device = torch.device(\"cuda:0\" if torch.cuda.is_available() else \"cpu\")\n",
    "\n",
    "net = DeepNetwork()\n",
    "net.to(device)\n",
    "print(\"Model archticture: \", net)"
   ]
  },
  {
   "cell_type": "code",
   "execution_count": null,
   "metadata": {},
   "outputs": [],
   "source": [
    "#FER2013\n",
    "names = ['Angry', 'Disgust', 'Fear', 'Happy', 'Sad', 'Surprise', 'Neutral']\n",
    "class FerDataset(Dataset):\n",
    "    def __init__(self, csv_file, img_dir, datatype, transform):\n",
    "        self.csv_file = pd.read_csv(csv_file)\n",
    "        self.lables = self.csv_file['emotion']\n",
    "        self.img_dir = img_dir\n",
    "        self.transform = transform\n",
    "        self.datatype = datatype\n",
    "\n",
    "    def __len__(self):\n",
    "        return len(self.csv_file)\n",
    "\n",
    "    def __getitem__(self,idx):\n",
    "        if torch.is_tensor(idx):\n",
    "            idx = idx.tolist()\n",
    "        img = Image.open(self.img_dir + self.datatype + str(idx) + '.jpg')\n",
    "        # lables = np.array([0,0,0,0,0,0,0])\n",
    "        # lables[self.lables[idx]] = 1\n",
    "        lables = np.array(self.lables[idx])\n",
    "        lables = torch.from_numpy(lables).long()\n",
    "\n",
    "\n",
    "        if self.transform :\n",
    "            img = self.transform(img)\n",
    "        return img,lables"
   ]
  },
  {
   "cell_type": "code",
   "execution_count": null,
   "metadata": {},
   "outputs": [],
   "source": [
    "traincsv_file = 'data/train.csv'\n",
    "validationcsv_file = 'data/test.csv'\n",
    "train_img_dir = 'data/train/'\n",
    "validation_img_dir = 'data/test/'\n",
    "\n",
    "\n",
    "transformation= transforms.Compose([transforms.ToTensor(),transforms.Normalize((0.5,),(0.5,))])\n",
    "train_dataset= FerDataset(\n",
    "\tcsv_file=traincsv_file, \n",
    "\timg_dir = train_img_dir, \n",
    "\tdatatype = 'train', \n",
    "\ttransform = transformation\n",
    ")\n",
    "validation_dataset= FerDataset(\n",
    "\tcsv_file=validationcsv_file, \n",
    "\timg_dir = validation_img_dir, \n",
    "\tdatatype = 'test', \n",
    "\ttransform = transformation\n",
    ")"
   ]
  },
  {
   "cell_type": "code",
   "execution_count": 7,
   "metadata": {},
   "outputs": [],
   "source": [
    "#CK+\n",
    "names = ['anger','contempt','disgust','fear','happy','sadness','surprise']\n",
    "class CkDataset(Dataset):\n",
    "    def __init__(self, img_dir, transform):\n",
    "        self.img_dir = img_dir\n",
    "        self.transform = transform\n",
    "        self.x = []\n",
    "        self.y = []\n",
    "        for label in os.listdir(img_dir):\n",
    "            if(label == '.DS_Store'):\n",
    "                continue\n",
    "            for img in os.listdir(img_dir+'/'+label):\n",
    "                img = Image.open(self.img_dir + '/' +label +'/'+img)\n",
    "                if self.transform :\n",
    "                    img = self.transform(img)\n",
    "                self.x.append(img)\n",
    "                self.y.append(names.index(label))\n",
    "\n",
    "    def __len__(self):\n",
    "        return self.y.__len__()\n",
    "\n",
    "    def __getitem__(self,idx):\n",
    "        return self.x[idx],self.y[idx]"
   ]
  },
  {
   "cell_type": "code",
   "execution_count": 8,
   "metadata": {},
   "outputs": [],
   "source": [
    "transformation= transforms.Compose([transforms.ToTensor(),transforms.Normalize((0.5,),(0.5,))])\n",
    "ck_dataset = CkDataset('./CK+48',transform=transformation)\n",
    "\n",
    "train_size = int(0.8 * len(ck_dataset))\n",
    "test_size = len(ck_dataset) - train_size\n",
    "train_dataset, validation_dataset = torch.utils.data.random_split(ck_dataset, [train_size, test_size])"
   ]
  },
  {
   "cell_type": "code",
   "execution_count": 9,
   "metadata": {},
   "outputs": [],
   "source": [
    "\n",
    "batchsize = 128\n",
    "\n",
    "train_loader= DataLoader(\n",
    "\ttrain_dataset,\n",
    "\tbatch_size=batchsize,\n",
    "\tshuffle = True,\n",
    "\tnum_workers=0\n",
    ")\n",
    "val_loader=   DataLoader(\n",
    "\tvalidation_dataset,\n",
    "\tbatch_size=batchsize,\n",
    "\tshuffle = True,\n",
    "\tnum_workers=0\n",
    ")\n",
    "\n",
    "conf_mat = np.zeros(shape=(7,7))\n"
   ]
  },
  {
   "cell_type": "code",
   "execution_count": 10,
   "metadata": {},
   "outputs": [],
   "source": [
    "def Train(epochs, train_loader, val_loader, criterion, optmizer, device):\n",
    "    '''\n",
    "    Training Loop\n",
    "    '''\n",
    "    metrics = {}\n",
    "\n",
    "    print(\"===================================Start Training===================================\")\n",
    "    for e in range(epochs):\n",
    "        train_loss = 0\n",
    "        validation_loss = 0\n",
    "        train_correct = 0\n",
    "        val_correct = 0\n",
    "\n",
    "        # Train the model  #\n",
    "        net.train()\n",
    "        for data, labels in train_loader:\n",
    "            data, labels = data.to(device), labels.to(device)\n",
    "            optmizer.zero_grad()\n",
    "            outputs = net(data)\n",
    "            loss = criterion(outputs,labels)\n",
    "            loss.backward()\n",
    "            optmizer.step()\n",
    "            train_loss += loss.item()\n",
    "            _, preds = torch.max(outputs,1)\n",
    "            train_correct += torch.sum(preds == labels.data)\n",
    "\n",
    "        #validate the model#\n",
    "        net.eval()\n",
    "        predlist=torch.zeros(0,dtype=torch.long, device=device)\n",
    "        lbllist=torch.zeros(0,dtype=torch.long, device=device)\n",
    "\n",
    "        for data,labels in val_loader:\n",
    "            data, labels = data.to(device), labels.to(device)\n",
    "            val_outputs = net(data)\n",
    "            val_loss = criterion(val_outputs, labels)\n",
    "            validation_loss += val_loss.item()\n",
    "            _, val_preds = torch.max(val_outputs,1)\n",
    "            val_correct += torch.sum(val_preds == labels.data)\n",
    "            # print(type(val_preds), type(val_preds[0]))\n",
    "            predlist = torch.cat([predlist, val_preds.flatten()])\n",
    "            lbllist = torch.cat([lbllist, labels.data.flatten()])\n",
    "\n",
    "        train_loss = train_loss/len(train_dataset)\n",
    "        train_acc = train_correct.double() / len(train_dataset)\n",
    "        validation_loss =  validation_loss / len(validation_dataset)\n",
    "        val_acc = val_correct.double() / len(validation_dataset)\n",
    "        print('Epoch: {} \\tTraining Loss: {:.8f} \\tValidation Loss {:.8f} \\tTraining Acuuarcy {:.3f}% \\tValidation Acuuarcy {:.3f}%'\n",
    "                                                           .format(e+1, train_loss,validation_loss,train_acc * 100, val_acc*100))\n",
    "\n",
    "    torch.save(net.state_dict(),'deep_emotion-{}-{}-{}.pt'.format(epochs,batchsize,lr))\n",
    "    print(\"===================================Training Finished===================================\")\n",
    "\n",
    "\n",
    "    def mapFun(i):\n",
    "        return lambda x : int(x==i)\n",
    "    fpr = []\n",
    "    tpr = []\n",
    "    for i in range(7):\n",
    "        f, t, _ = skmetrics.roc_curve(\n",
    "            list(map(mapFun(i), lbllist.tolist())), \n",
    "            list(map(mapFun(i), predlist.tolist()))\n",
    "        )\n",
    "        fpr.append(f)\n",
    "        tpr.append(t)\n",
    "\n",
    "    conf_mat = np.zeros(shape=(7,7))\n",
    "    for i in range(len(predlist)):\n",
    "        # print(type(lbllist[i].item()))\n",
    "        conf_mat[lbllist[i].item()][predlist[i].item()] += 1\n",
    "\n",
    "    \n",
    "    metrics['f1_score'] = skmetrics.f1_score(lbllist.tolist(), predlist.tolist(), average=None)\n",
    "    # metrics['y_true'] = lbllist.tolist()\n",
    "    # metrics['y_pred'] = predlist.tolist()\n",
    "    metrics['conf_mat'] = conf_mat\n",
    "    metrics['fpr'] = fpr\n",
    "    metrics['tpr'] = tpr\n",
    "\n",
    "    return metrics\n"
   ]
  },
  {
   "cell_type": "code",
   "execution_count": 11,
   "metadata": {},
   "outputs": [
    {
     "name": "stdout",
     "output_type": "stream",
     "text": [
      "===================================Start Training===================================\n",
      "Epoch: 1 \tTraining Loss: 0.01603159 \tValidation Loss 0.01973224 \tTraining Acuuarcy 29.209% \tValidation Acuuarcy 15.736%\n",
      "Epoch: 2 \tTraining Loss: 0.01385393 \tValidation Loss 0.01886183 \tTraining Acuuarcy 43.878% \tValidation Acuuarcy 30.964%\n",
      "Epoch: 3 \tTraining Loss: 0.01205454 \tValidation Loss 0.01805844 \tTraining Acuuarcy 50.765% \tValidation Acuuarcy 37.056%\n",
      "Epoch: 4 \tTraining Loss: 0.01081755 \tValidation Loss 0.01617688 \tTraining Acuuarcy 56.122% \tValidation Acuuarcy 46.701%\n",
      "Epoch: 5 \tTraining Loss: 0.01012538 \tValidation Loss 0.01418355 \tTraining Acuuarcy 59.821% \tValidation Acuuarcy 53.299%\n",
      "Epoch: 6 \tTraining Loss: 0.00870394 \tValidation Loss 0.01172959 \tTraining Acuuarcy 64.541% \tValidation Acuuarcy 65.482%\n",
      "Epoch: 7 \tTraining Loss: 0.00929604 \tValidation Loss 0.01307464 \tTraining Acuuarcy 67.092% \tValidation Acuuarcy 52.792%\n",
      "Epoch: 8 \tTraining Loss: 0.00816502 \tValidation Loss 0.01705247 \tTraining Acuuarcy 66.454% \tValidation Acuuarcy 56.345%\n",
      "Epoch: 9 \tTraining Loss: 0.00778352 \tValidation Loss 0.00929494 \tTraining Acuuarcy 70.153% \tValidation Acuuarcy 72.081%\n",
      "Epoch: 10 \tTraining Loss: 0.00633684 \tValidation Loss 0.01208532 \tTraining Acuuarcy 73.342% \tValidation Acuuarcy 64.975%\n",
      "===================================Training Finished===================================\n",
      "[[22.  0.  8.  0.  0.  0.  0.]\n",
      " [ 6.  2.  2.  0.  4.  0.  0.]\n",
      " [ 2.  0. 31.  0.  2.  0.  1.]\n",
      " [ 1.  1.  2.  1.  3.  0.  3.]\n",
      " [ 1.  0.  3.  0. 33.  0.  0.]\n",
      " [ 6.  4.  2.  0.  3.  0.  0.]\n",
      " [ 3.  0.  1.  2.  9.  0. 39.]]\n"
     ]
    }
   ],
   "source": [
    "epochs = 10\n",
    "lr = 0.005\n",
    "criterion= nn.CrossEntropyLoss()\n",
    "optmizer= optim.Adam(net.parameters(),lr= lr)\n",
    "\n",
    "metrics = Train(\n",
    "\tepochs, \n",
    "\ttrain_loader, \n",
    "\tval_loader, \n",
    "\tcriterion, \n",
    "\toptmizer, \n",
    "\tdevice\n",
    ")\n",
    "\n",
    "print(metrics['conf_mat'])"
   ]
  },
  {
   "cell_type": "code",
   "execution_count": 12,
   "metadata": {},
   "outputs": [
    {
     "data": {
      "text/html": [
       "<table>\n",
       "    <thead>\n",
       "        <tr>\n",
       "            <th>Class</th>\n",
       "            <th>F1 Score</th>\n",
       "        </tr>\n",
       "    </thead>\n",
       "    <tbody>\n",
       "        <tr>\n",
       "            <td>anger</td>\n",
       "            <td>0.620</td>\n",
       "        </tr>\n",
       "        <tr>\n",
       "            <td>contempt</td>\n",
       "            <td>0.190</td>\n",
       "        </tr>\n",
       "        <tr>\n",
       "            <td>disgust</td>\n",
       "            <td>0.729</td>\n",
       "        </tr>\n",
       "        <tr>\n",
       "            <td>fear</td>\n",
       "            <td>0.143</td>\n",
       "        </tr>\n",
       "        <tr>\n",
       "            <td>happy</td>\n",
       "            <td>0.725</td>\n",
       "        </tr>\n",
       "        <tr>\n",
       "            <td>sadness</td>\n",
       "            <td>0.000</td>\n",
       "        </tr>\n",
       "        <tr>\n",
       "            <td>surprise</td>\n",
       "            <td>0.804</td>\n",
       "        </tr>\n",
       "    </tbody>\n",
       "</table>"
      ],
      "text/plain": [
       "+----------+----------+\n",
       "|  Class   | F1 Score |\n",
       "+----------+----------+\n",
       "|  anger   |  0.620   |\n",
       "| contempt |  0.190   |\n",
       "| disgust  |  0.729   |\n",
       "|   fear   |  0.143   |\n",
       "|  happy   |  0.725   |\n",
       "| sadness  |  0.000   |\n",
       "| surprise |  0.804   |\n",
       "+----------+----------+"
      ]
     },
     "execution_count": 12,
     "metadata": {},
     "output_type": "execute_result"
    }
   ],
   "source": [
    "from prettytable import PrettyTable\n",
    "\n",
    "table = PrettyTable(['Class','F1 Score'])\n",
    "for i in range(7):\n",
    "\ttable.add_row([\n",
    "\t\tnames[i], \n",
    "\t\t\"{:.3f}\".format(metrics['f1_score'][i])\n",
    "\t])\n",
    "\n",
    "table\n"
   ]
  },
  {
   "cell_type": "code",
   "execution_count": 13,
   "metadata": {},
   "outputs": [
    {
     "data": {
      "text/plain": [
       "Text(0, 0.5, 'True Positive Rate')"
      ]
     },
     "execution_count": 13,
     "metadata": {},
     "output_type": "execute_result"
    },
    {
     "data": {
      "image/png": "[encoded data removed]",
      "text/plain": [
       "<Figure size 432x288 with 1 Axes>"
      ]
     },
     "metadata": {
      "needs_background": "light"
     },
     "output_type": "display_data"
    }
   ],
   "source": [
    "fpr = metrics['fpr']\n",
    "tpr = metrics['tpr']\n",
    "\n",
    "fig = plt.figure()\n",
    "\n",
    "for i in range(7):\n",
    "\tplt.plot(fpr[i], tpr[i], label=names[i]+' vs rest', linestyle='--')\n",
    "plt.legend()\n",
    "plt.title(\"AUC ROC Curve for CK+\")\n",
    "plt.xlabel('False Positive Rate')\n",
    "plt.ylabel(\"True Positive Rate\")\n"
   ]
  },
  {
   "cell_type": "code",
   "execution_count": 14,
   "metadata": {},
   "outputs": [
    {
     "name": "stdout",
     "output_type": "stream",
     "text": [
      "[[ 10 100 200]\n",
      " [  0 255 122]\n",
      " [ 23  20 102]]\n",
      "[[0.03921569 0.39215686 0.78431373]\n",
      " [0.         1.         0.47843137]\n",
      " [0.09019608 0.07843137 0.4       ]]\n",
      "[0.03921569 0.39215686 0.78431373 0.         1.         0.47843137\n",
      " 0.09019608 0.07843137 0.4       ]\n"
     ]
    }
   ],
   "source": [
    "img =  np.array([[10,100,200],\n",
    "\t[0, 255, 122],\n",
    "\t[23, 20, 102]])\n",
    "print(img)\n",
    "print(img/255)\n",
    "print((img/255).flatten())"
   ]
  },
  {
   "cell_type": "code",
   "execution_count": 15,
   "metadata": {},
   "outputs": [
    {
     "name": "stdout",
     "output_type": "stream",
     "text": [
      "+-----------------------+------------+\n",
      "|        Modules        | Parameters |\n",
      "+-----------------------+------------+\n",
      "|      conv1.weight     |     90     |\n",
      "|       conv1.bias      |     10     |\n",
      "|      conv2.weight     |    900     |\n",
      "|       conv2.bias      |     10     |\n",
      "|      conv3.weight     |    900     |\n",
      "|       conv3.bias      |     10     |\n",
      "|      conv4.weight     |    900     |\n",
      "|       conv4.bias      |     10     |\n",
      "|      norm.weight      |     10     |\n",
      "|       norm.bias       |     10     |\n",
      "|       fc1.weight      |   40500    |\n",
      "|        fc1.bias       |     50     |\n",
      "|       fc2.weight      |    350     |\n",
      "|        fc2.bias       |     7      |\n",
      "| localization.0.weight |    392     |\n",
      "|  localization.0.bias  |     8      |\n",
      "| localization.3.weight |    2000    |\n",
      "|  localization.3.bias  |     10     |\n",
      "|    fc_loc.0.weight    |   20480    |\n",
      "|     fc_loc.0.bias     |     32     |\n",
      "|    fc_loc.2.weight    |    192     |\n",
      "|     fc_loc.2.bias     |     6      |\n",
      "+-----------------------+------------+\n",
      "Total Trainable Params: 66877\n"
     ]
    },
    {
     "data": {
      "text/plain": [
       "66877"
      ]
     },
     "execution_count": 15,
     "metadata": {},
     "output_type": "execute_result"
    }
   ],
   "source": [
    "from prettytable import PrettyTable\n",
    "\n",
    "def count_parameters(model):\n",
    "    table = PrettyTable([\"Modules\", \"Parameters\"])\n",
    "    total_params = 0\n",
    "    for name, parameter in model.named_parameters():\n",
    "        if not parameter.requires_grad: continue\n",
    "        param = parameter.numel()\n",
    "        table.add_row([name, param])\n",
    "        total_params+=param\n",
    "    print(table)\n",
    "    print(f\"Total Trainable Params: {total_params}\")\n",
    "    return total_params\n",
    "    \n",
    "count_parameters(net)"
   ]
  },
  {
   "cell_type": "code",
   "execution_count": 17,
   "metadata": {},
   "outputs": [
    {
     "data": {
      "text/plain": [
       "<AxesSubplot:>"
      ]
     },
     "execution_count": 17,
     "metadata": {},
     "output_type": "execute_result"
    },
    {
     "data": {
      "image/png": "[encoded data removed]",
      "text/plain": [
       "<Figure size 432x288 with 2 Axes>"
      ]
     },
     "metadata": {
      "needs_background": "light"
     },
     "output_type": "display_data"
    }
   ],
   "source": [
    "import seaborn as sns\n",
    "sns.heatmap(metrics['conf_mat'], annot=True, xticklabels=names, yticklabels=names)"
   ]
  },
  {
   "cell_type": "code",
   "execution_count": 14,
   "metadata": {},
   "outputs": [
    {
     "data": {
      "text/plain": [
       "array([0.     , 0.00625, 1.     ])"
      ]
     },
     "execution_count": 14,
     "metadata": {},
     "output_type": "execute_result"
    }
   ],
   "source": []
  },
  {
   "cell_type": "code",
   "execution_count": null,
   "metadata": {},
   "outputs": [],
   "source": []
  }
 ],
 "metadata": {
  "interpreter": {
   "hash": "c6e4e9f98eb68ad3b7c296f83d20e6de614cb42e90992a65aa266555a3137d0d"
  },
  "kernelspec": {
   "display_name": "Python 3.9.7 64-bit ('base': conda)",
   "language": "python",
   "name": "python3"
  },
  "language_info": {
   "codemirror_mode": {
    "name": "ipython",
    "version": 3
   },
   "file_extension": ".py",
   "mimetype": "text/x-python",
   "name": "python",
   "nbconvert_exporter": "python",
   "pygments_lexer": "ipython3",
   "version": "3.9.7"
  },
  "orig_nbformat": 4
 },
 "nbformat": 4,
 "nbformat_minor": 2
}
